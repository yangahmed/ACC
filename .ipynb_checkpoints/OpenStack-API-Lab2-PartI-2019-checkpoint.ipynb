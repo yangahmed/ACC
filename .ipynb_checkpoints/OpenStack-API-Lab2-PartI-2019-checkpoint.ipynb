{
 "cells": [
  {
   "cell_type": "markdown",
   "metadata": {},
   "source": [
    "# Computer Lab 2, Part I"
   ]
  },
  {
   "cell_type": "markdown",
   "metadata": {},
   "source": [
    "This notebook consists of instructions, exercises and questions that form the practical part of Lab II, Part I. In this assignment, you will learn the basics of the OpenStack Python APIs that can be used to interact directly with the IaaS services Keystone (Identity), Glance (Image) and Nova (compute). Please prepare your solution and answers to questions directly in this notebook, and export it to PDF. Upload that PDF as to the student portal to complete Part I of the Lab.  "
   ]
  },
  {
   "cell_type": "markdown",
   "metadata": {},
   "source": [
    "## Task - 1"
   ]
  },
  {
   "cell_type": "code",
   "execution_count": 1,
   "metadata": {},
   "outputs": [],
   "source": [
    "from os import environ as env\n",
    "import keystoneclient.v3.client as ksclient"
   ]
  },
  {
   "cell_type": "markdown",
   "metadata": {},
   "source": [
    "To establish a client connection, we will need to pass a dictionary with information about the tenant, user, credentials and the API Identity endpoint. Here, I have sourced the \"openrc.sh file\" obtained from the Horizon dashboard in the underlying shell prior to starting the notebook. Hence, in order to actually run the code below, you would need to do the same with your own credentials. "
   ]
  },
  {
   "cell_type": "code",
   "execution_count": 2,
   "metadata": {},
   "outputs": [],
   "source": [
    "keystone = ksclient.Client(auth_url=env['OS_AUTH_URL'],\n",
    "                           username=env['OS_USERNAME'],\n",
    "                           password=env['OS_PASSWORD'],\n",
    "                           project_name=env['OS_PROJECT_NAME'],\n",
    "                           project_domain_name=env['OS_USER_DOMAIN_NAME'],\n",
    "                           project_id=env['OS_PROJECT_ID'],\n",
    "                           version=env['OS_IDENTITY_API_VERSION'],\n",
    "                           user_domain_name=env['OS_USER_DOMAIN_NAME'],\n",
    "                           region_name=env['OS_REGION_NAME'])"
   ]
  },
  {
   "cell_type": "raw",
   "metadata": {},
   "source": [
    "# Next command will collect all the available endpoints in keystone."
   ]
  },
  {
   "cell_type": "code",
   "execution_count": 3,
   "metadata": {},
   "outputs": [],
   "source": [
    "endpoints = keystone.service_catalog.get_endpoints()"
   ]
  },
  {
   "cell_type": "raw",
   "metadata": {
    "collapsed": true
   },
   "source": [
    "# Next section will print the services with associated infromation."
   ]
  },
  {
   "cell_type": "code",
   "execution_count": 6,
   "metadata": {},
   "outputs": [
    {
     "name": "stdout",
     "output_type": "stream",
     "text": [
      "service:  volumev2 , region:  UPPMAX , public endpoint:  https://uppmax.cloud.snic.se:8776/v2/5ac623fdd6b1497baf2a8213e63fc1b5\n",
      "service:  volumev2 , region:  UPPMAX , internal endpoint:  http://172.24.0.165:8776/v2/5ac623fdd6b1497baf2a8213e63fc1b5\n",
      "service:  object-store , region:  UPPMAX , public endpoint:  https://uppmax.cloud.snic.se:8080/v1/AUTH_5ac623fdd6b1497baf2a8213e63fc1b5\n",
      "service:  object-store , region:  UPPMAX , internal endpoint:  http://172.24.0.165:8080/v1/AUTH_5ac623fdd6b1497baf2a8213e63fc1b5\n",
      "service:  compute , region:  UPPMAX , internal endpoint:  http://172.24.0.165:8774/v2.1/5ac623fdd6b1497baf2a8213e63fc1b5\n",
      "service:  compute , region:  UPPMAX , public endpoint:  https://uppmax.cloud.snic.se:8774/v2.1/5ac623fdd6b1497baf2a8213e63fc1b5\n",
      "service:  cloudformation , region:  UPPMAX , public endpoint:  https://uppmax.cloud.snic.se:8000/v1\n",
      "service:  cloudformation , region:  UPPMAX , internal endpoint:  http://172.24.0.165:8000/v1\n",
      "service:  network , region:  UPPMAX , internal endpoint:  http://172.24.0.165:9696\n",
      "service:  network , region:  UPPMAX , public endpoint:  https://uppmax.cloud.snic.se:9696\n",
      "service:  volumev3 , region:  UPPMAX , internal endpoint:  http://172.24.0.165:8776/v3/5ac623fdd6b1497baf2a8213e63fc1b5\n",
      "service:  volumev3 , region:  UPPMAX , public endpoint:  https://uppmax.cloud.snic.se:8776/v3/5ac623fdd6b1497baf2a8213e63fc1b5\n",
      "service:  image , region:  UPPMAX , public endpoint:  https://uppmax.cloud.snic.se:9292\n",
      "service:  image , region:  UPPMAX , internal endpoint:  http://172.24.0.165:9292\n",
      "service:  metering , region:  UPPMAX , internal endpoint:  http://172.24.0.165:8777\n",
      "service:  metering , region:  UPPMAX , public endpoint:  https://uppmax.cloud.snic.se:8777\n",
      "service:  identity , region:  UPPMAX , internal endpoint:  http://172.24.0.165:5000/v3\n",
      "service:  identity , region:  UPPMAX , public endpoint:  https://uppmax.cloud.snic.se:5000/v3\n",
      "service:  volume , region:  UPPMAX , internal endpoint:  http://172.24.0.165:8776/v1/5ac623fdd6b1497baf2a8213e63fc1b5\n",
      "service:  volume , region:  UPPMAX , public endpoint:  https://uppmax.cloud.snic.se:8776/v1/5ac623fdd6b1497baf2a8213e63fc1b5\n",
      "service:  orchestration , region:  UPPMAX , public endpoint:  https://uppmax.cloud.snic.se:8004/v1/5ac623fdd6b1497baf2a8213e63fc1b5\n",
      "service:  orchestration , region:  UPPMAX , internal endpoint:  http://172.24.0.165:8004/v1/5ac623fdd6b1497baf2a8213e63fc1b5\n"
     ]
    }
   ],
   "source": [
    "for endpoint in endpoints:\n",
    "    for edp in endpoints[endpoint]:\n",
    "        if edp['interface'] == 'public':\n",
    "            print('service: ', endpoint, ', region: ', edp['region'], ', public endpoint: ', edp['url'])\n",
    "        # To show \"internal\" endpoints (Question #3)\n",
    "        elif edp['interface'] == 'internal':\n",
    "            print('service: ', endpoint, ', region: ', edp['region'], ', internal endpoint: ', edp['url'])"
   ]
  },
  {
   "cell_type": "markdown",
   "metadata": {},
   "source": [
    "## Questions:"
   ]
  },
  {
   "cell_type": "raw",
   "metadata": {},
   "source": [
    "1 - Explain the working of the code?\n",
    "\n",
    "    Using keystone create a new client with the user's information (i.e. username, password, project id, etc), then through this client connect to the cloud, to collect the information of all the endpoints and store them in a list, then print them.\n",
    "\n",
    "2 - Why we need openrc file to run this code?\n",
    "\n",
    "    After \"source\" the openrc file, the information about the tenant, user, credentials and the API Identity endpoint have been put into \"environ\", then keystone can use the information to create a client to connect to the cloud, where those information are neccesary\n",
    "\n",
    "3 - The code shows information about the \"public\" endpoints. Modify the code to show both the \"public\" and \"internal\" endpoints?\n",
    "\n",
    "    The code has been modified as above.\n",
    "\n",
    "4 - What is the difference between \"internal\" and \"public\" endpoints?\n",
    "\n",
    "    The \"internal\" endpoints are the endpoints that can only be visited from within the internal network.\n",
    "    The \"public\" endpoints can be used from public network, i.e. Internet."
   ]
  },
  {
   "cell_type": "markdown",
   "metadata": {
    "collapsed": true
   },
   "source": [
    "## Task - 2"
   ]
  },
  {
   "cell_type": "markdown",
   "metadata": {
    "collapsed": true
   },
   "source": [
    "In this task you need to write a small python program using Keystone and Nova APIs to list all the available VMs in the project. \n",
    "\n",
    "Use the following links and the code available in Task-1. \n",
    "\n",
    "https://docs.openstack.org/python-novaclient/pike/ https://docs.openstack.org/python-novaclient/pike/reference/api/index.html\n",
    "\n",
    "Following are the functions required to accomplish the task: \n",
    "\n",
    "Load the required plugin:<br />\n",
    "loader = loading.get_plugin_loader(...)\n",
    "\n",
    "Create the auth object:<br />\n",
    "auth = loader.load_from_options(....) \n",
    "\n",
    "Create session object using \"auth\":<br />\n",
    "sess = session.Session( .... )\n",
    "\n",
    "Create Nova Client Object:<br />\n",
    "nova = client.Client( ... )\n",
    "\n",
    "Print the Vms:<br />\n",
    "nova.servers.list():"
   ]
  },
  {
   "cell_type": "code",
   "execution_count": 8,
   "metadata": {},
   "outputs": [
    {
     "data": {
      "text/plain": [
       "[<Server: mariavm1>,\n",
       " <Server: vm1Chenglong>,\n",
       " <Server: LuxDryselius_C2_Task-5_autumatically_gen_cowsayv2s>,\n",
       " <Server: Patrik Bjorklund>,\n",
       " <Server: Docker FilipCowsay>,\n",
       " <Server: punnamVM>,\n",
       " <Server: albaVM>,\n",
       " <Server: LuxDryselius_C2_Task-5_autumatically_gen_cowsay>,\n",
       " <Server: punnamLab2>,\n",
       " <Server: albai>,\n",
       " <Server: chricko-my_instance1-2lrbtti4f5ab>,\n",
       " <Server: chricko-my_instance0-ky3v3uiykjsm>,\n",
       " <Server: Karabom>,\n",
       " <Server: melkster_automated>,\n",
       " <Server: vm1>,\n",
       " <Server: stack_with_init_script_2-my_instance1-lzxhnngvpeyw>,\n",
       " <Server: stack_with_init_script_2-my_instance0-fjzraqv3ss5q>,\n",
       " <Server: adin-Assigment2-V2_do_not_delete>,\n",
       " <Server: BootsmaNew>,\n",
       " <Server: rinya-task5-vm>,\n",
       " <Server: mafe_instance-3>,\n",
       " <Server: Benkass>,\n",
       " <Server: jiayi_a2>,\n",
       " <Server: mafe_VM3>,\n",
       " <Server: BootsmaInstance>,\n",
       " <Server: jianbo>,\n",
       " <Server: yowuA2>,\n",
       " <Server: AndreasCowsay>,\n",
       " <Server: vm1>,\n",
       " <Server: Hejlabb2.0_do_not_delete>,\n",
       " <Server: ivarsson>,\n",
       " <Server: mackish>,\n",
       " <Server: vm1_STORFILIP>,\n",
       " <Server: ACCv_DoNotDelete>,\n",
       " <Server: jiarong>,\n",
       " <Server: vlad_spawned_instance>,\n",
       " <Server: st-k_with_init_script_mask1-my_instance1-a6zvw7d5lbxq>,\n",
       " <Server: st-k_with_init_script_mask1-my_instance0-wy6hczsa5jxp>,\n",
       " <Server: KarNair_Lab2_DoNotDelete>,\n",
       " <Server: alba-cloud>,\n",
       " <Server: jiarong16>,\n",
       " <Server: MaxThirdInstance>,\n",
       " <Server: MaxSecondInstance>,\n",
       " <Server: mask2_vm2>,\n",
       " <Server: vlad_lab_2>,\n",
       " <Server: MaxThirdInstance>,\n",
       " <Server: AMH_lab2_dnd>,\n",
       " <Server: bruh>,\n",
       " <Server: LuxDryselius_C2_Task-4>,\n",
       " <Server: xiao>,\n",
       " <Server: beek_do_not_delete>,\n",
       " <Server: Karabom>,\n",
       " <Server: mafe_instance_2>,\n",
       " <Server: hamza_lab2_do_not_delete>,\n",
       " <Server: Christopher_do_not_delete>,\n",
       " <Server: loek1>,\n",
       " <Server: vmChenglong>,\n",
       " <Server: Storfilip_lab2_task5_DO_NOT_DELETE>,\n",
       " <Server: martin_lab2_do_not_delete>,\n",
       " <Server: docker_inst>,\n",
       " <Server: mask2_instance3>,\n",
       " <Server: dfault>,\n",
       " <Server: Chenglong_C>,\n",
       " <Server: AntonE-do-not-delete>,\n",
       " <Server: Storfilips megainstance_do_not_delete>,\n",
       " <Server: Melkster_do_not_delete>,\n",
       " <Server: shdo2851_PLZ do not delete>,\n",
       " <Server: xars_arn5_do_not_delete>,\n",
       " <Server: fawad_New>,\n",
       " <Server: jobo_vm1_do not delete>,\n",
       " <Server: markus_lab2_do_not_delete>,\n",
       " <Server: adin-Assigment2_do_not_delete>,\n",
       " <Server: dsds_anne_do_not_delete>,\n",
       " <Server: vmZain_Dontdelete>,\n",
       " <Server: Zain_Dont_delete>,\n",
       " <Server: MUMIN_DO_NOT_DELETE>,\n",
       " <Server: Davis_Nicmanis_Lab2_do_not_delete>,\n",
       " <Server: areeb_lab2_do_not_delete>,\n",
       " <Server: Horizon_do_not_delete>,\n",
       " <Server: rinya-lab2_do_not_delete>,\n",
       " <Server: lab2MaxR_do_not_delete>,\n",
       " <Server: Filips mega instance_do_not_delete>,\n",
       " <Server: jool9514_do_not_delete>]"
      ]
     },
     "execution_count": 8,
     "metadata": {},
     "output_type": "execute_result"
    }
   ],
   "source": [
    "from keystoneauth1 import loading\n",
    "from keystoneauth1 import session\n",
    "from novaclient import client\n",
    "loader = loading.get_plugin_loader('password')\n",
    "auth = loader.load_from_options(auth_url=env['OS_AUTH_URL'],\n",
    "                               username=env['OS_USERNAME'],\n",
    "                               password=env['OS_PASSWORD'],\n",
    "                               project_name=env['OS_PROJECT_NAME'],\n",
    "                               project_domain_name=env['OS_USER_DOMAIN_NAME'],\n",
    "                               project_id=env['OS_PROJECT_ID'],\n",
    "                               user_domain_name=env['OS_USER_DOMAIN_NAME'])\n",
    "sess = session.Session(auth=auth)\n",
    "nova = client.Client(2, session=sess)\n",
    "nova.servers.list()"
   ]
  },
  {
   "cell_type": "markdown",
   "metadata": {},
   "source": [
    "## Task - 3:"
   ]
  },
  {
   "cell_type": "markdown",
   "metadata": {},
   "source": [
    "Try to measure the speed with which you can put and get files to and from volumes. Conduct your experiment several times to gather statistic and plot a) A estimated distribution of the time taken (in wall clock) to write and read a file of size 10MB in your volume and b) vary the size of the file from 10kB to 100MB and plot the read and write throughput (in MB/s) times as a function of file size (for the smaller data sizes, you might need to repeat the experiment many times and obtain a statistical average). Use \"Root\" disk as a reference point. Include the resulting graphs and a description of your experiment in the report."
   ]
  },
  {
   "cell_type": "code",
   "execution_count": 1,
   "metadata": {},
   "outputs": [
    {
     "name": "stdout",
     "output_type": "stream",
     "text": [
      "Populating the interactive namespace from numpy and matplotlib\n"
     ]
    }
   ],
   "source": [
    "# Implement you solution here. Hint, the following command\n",
    "%pylab inline \n",
    "# will  make matplotlib/pylab available and plots will be displayed directly in the notebook, for example\n",
    "# plt.plot([0,1,2,3],[0,1,2,3])\n",
    "\n",
    "import os\n",
    "import random\n",
    "import time\n",
    "\n",
    "def genSizeFile(fileName, fileSize):\n",
    "    filePath = \"/mnt/volume/\" + fileName + \".txt\"\n",
    "    ds = 0\n",
    "    with open(filePath, \"w\", encoding=\"utf8\") as f:\n",
    "        while ds<fileSize:\n",
    "            f.write(str(round(random.uniform(-1000, 1000),2)))\n",
    "            f.write(\"\\n\")\n",
    "            ds = os.path.getsize(filePath)\n",
    "    return filePath"
   ]
  },
  {
   "cell_type": "code",
   "execution_count": 7,
   "metadata": {},
   "outputs": [
    {
     "data": {
      "image/png": "[encoded data removed]",
      "text/plain": [
       "<Figure size 432x288 with 1 Axes>"
      ]
     },
     "metadata": {
      "needs_background": "light"
     },
     "output_type": "display_data"
    },
    {
     "data": {
      "image/png": "[encoded data removed]",
      "text/plain": [
       "<Figure size 432x288 with 1 Axes>"
      ]
     },
     "metadata": {
      "needs_background": "light"
     },
     "output_type": "display_data"
    },
    {
     "name": "stdout",
     "output_type": "stream",
     "text": [
      "Average time for writing:  13.773488855361938\n",
      "Average time for reading:  0.018033146858215332\n"
     ]
    }
   ],
   "source": [
    "# a)\n",
    "# create a new file and write random string in it to make it 10 MB, then read it for 10 times, measuring the time,\n",
    "# then calculate the average time\n",
    "\n",
    "t_write = []\n",
    "t_read = []\n",
    "\n",
    "for i in range(10):\n",
    "    t0 = time.time()\n",
    "    fp = genSizeFile(str(i), 10*1024*1024)\n",
    "    t1 = time.time()\n",
    "    f = open(fp)\n",
    "    f.read()\n",
    "    t2 = time.time()\n",
    "    t_write.append(t1-t0)\n",
    "    t_read.append(t2-t1)\n",
    "    \n",
    "\n",
    "plt.figure()\n",
    "plt.plot(range(len(t_write)), t_write)\n",
    "plt.title(\"Time of Writing\")\n",
    "plt.ylabel(\"time/s\")\n",
    "\n",
    "plt.figure()\n",
    "plt.plot(range(len(t_read)), t_read)\n",
    "plt.title(\"Time of Reading\")\n",
    "plt.ylabel(\"time/s\")\n",
    "plt.show()\n",
    "\n",
    "print(\"Average time for writing: \", numpy.mean(t_write))\n",
    "print(\"Average time for reading: \", numpy.mean(t_read))"
   ]
  },
  {
   "cell_type": "code",
   "execution_count": 13,
   "metadata": {},
   "outputs": [
    {
     "data": {
      "image/png": "[encoded data removed]",
      "text/plain": [
       "<Figure size 432x288 with 1 Axes>"
      ]
     },
     "metadata": {
      "needs_background": "light"
     },
     "output_type": "display_data"
    },
    {
     "data": {
      "image/png": "[encoded data removed]",
      "text/plain": [
       "<Figure size 432x288 with 1 Axes>"
      ]
     },
     "metadata": {
      "needs_background": "light"
     },
     "output_type": "display_data"
    }
   ],
   "source": [
    "# b)\n",
    "# create and write a file in 10KB, 50KB, 100KB, 200KB, 400KB, 600KB, 800KB, 1MB, 2MB, 4MB, 6MB, 8MB, 10MB, 20MB, 30MB, 40MB, 50MB, 60MB, 70MB,\n",
    "# 80MB, 90MB and 100MB, then read it, measuring the time\n",
    "# for the files smaller than 1MB, repeat 5 times and using its average time\n",
    "# then calculate the speed of writing and reading, plot as a figure\n",
    "\n",
    "t_write = []\n",
    "t_read = []\n",
    "r = [0.01, 0.05, 0.1, 0.2, 0.4, 0.6, 0.8, 1, 2, 4, 6, 8, 10, 20, 30, 40, 50, 60, 70, 80, 90, 100]\n",
    "\n",
    "for s in r:\n",
    "    if s < 1:\n",
    "        t_w = []\n",
    "        t_r = []\n",
    "        for i in range(5):\n",
    "            t0 = time.time()\n",
    "            fp = genSizeFile(str(s*1000)+'k', s*1024*1024)\n",
    "            t1 = time.time()\n",
    "            f = open(fp)\n",
    "            f.read()\n",
    "            t2 = time.time()\n",
    "            t_w.append(t1-t0)\n",
    "            t_r.append(t2-t1)\n",
    "        t_write.append(numpy.mean(t_w))\n",
    "        t_read.append(numpy.mean(t_r))\n",
    "    else:\n",
    "        t0 = time.time()\n",
    "        fp = genSizeFile(str(s)+'m', s*1024*1024)\n",
    "        t1 = time.time()\n",
    "        f = open(fp)\n",
    "        f.read()\n",
    "        t2 = time.time()\n",
    "        t_write.append(t1-t0)\n",
    "        t_read.append(t2-t1)\n",
    "        \n",
    "s_write = []\n",
    "s_read = []\n",
    "for ii in range(len(r)):\n",
    "    s_write.append(r[ii]/t_write[ii])\n",
    "    s_read.append(r[ii]/t_read[ii])\n",
    "    \n",
    "plt.figure()\n",
    "plt.plot(r, s_write)\n",
    "plt.title(\"Speed of Writing\")\n",
    "plt.xlabel(\"Filesize (MB)\")\n",
    "plt.ylabel(\"Speed (MB/s)\")\n",
    "\n",
    "plt.figure()\n",
    "plt.plot(r, s_read)\n",
    "plt.title(\"Speed of Reading\")\n",
    "plt.xlabel(\"Filesize (MB)\")\n",
    "plt.ylabel(\"Speed (MB/s)\")\n",
    "plt.show()"
   ]
  },
  {
   "cell_type": "markdown",
   "metadata": {},
   "source": [
    "Don't foget to terminate resources after your experiments. "
   ]
  },
  {
   "cell_type": "code",
   "execution_count": 14,
   "metadata": {},
   "outputs": [],
   "source": [
    "# Clean up volumes\n",
    "\n",
    "for root, dirs, files in os.walk('/mnt/volume/'):\n",
    "    for name in files:\n",
    "        if(name.endswith(\".txt\")):\n",
    "            os.remove(os.path.join(root, name))"
   ]
  }
 ],
 "metadata": {
  "kernelspec": {
   "display_name": "Python 3",
   "language": "python",
   "name": "python3"
  },
  "language_info": {
   "codemirror_mode": {
    "name": "ipython",
    "version": 3
   },
   "file_extension": ".py",
   "mimetype": "text/x-python",
   "name": "python",
   "nbconvert_exporter": "python",
   "pygments_lexer": "ipython3",
   "version": "3.5.2"
  }
 },
 "nbformat": 4,
 "nbformat_minor": 1
}
